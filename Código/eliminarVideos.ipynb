{
 "cells": [
  {
   "cell_type": "code",
   "execution_count": 2,
   "metadata": {},
   "outputs": [],
   "source": [
    "from os import remove\n",
    "import pandas as pd\n",
    "#remove(\"archivo.txt\")"
   ]
  },
  {
   "cell_type": "code",
   "execution_count": 13,
   "metadata": {},
   "outputs": [],
   "source": [
    "datos= pd.read_csv(\"BaseDeDatosNTHU.csv\", engine='python')"
   ]
  },
  {
   "cell_type": "code",
   "execution_count": 14,
   "metadata": {},
   "outputs": [
    {
     "data": {
      "text/html": [
       "<div>\n",
       "<style scoped>\n",
       "    .dataframe tbody tr th:only-of-type {\n",
       "        vertical-align: middle;\n",
       "    }\n",
       "\n",
       "    .dataframe tbody tr th {\n",
       "        vertical-align: top;\n",
       "    }\n",
       "\n",
       "    .dataframe thead th {\n",
       "        text-align: right;\n",
       "    }\n",
       "</style>\n",
       "<table border=\"1\" class=\"dataframe\">\n",
       "  <thead>\n",
       "    <tr style=\"text-align: right;\">\n",
       "      <th></th>\n",
       "      <th>Unnamed: 0</th>\n",
       "      <th>nombreArchivo</th>\n",
       "      <th>condicion</th>\n",
       "      <th>clase</th>\n",
       "      <th>validacion</th>\n",
       "      <th>Clase</th>\n",
       "      <th>Descripcion</th>\n",
       "    </tr>\n",
       "  </thead>\n",
       "  <tbody>\n",
       "    <tr>\n",
       "      <th>0</th>\n",
       "      <td>0</td>\n",
       "      <td>baseDeDatos/yawning/yawning_night_noglasses0.jpg</td>\n",
       "      <td>night_noglasses</td>\n",
       "      <td>yawning</td>\n",
       "      <td>ERROR</td>\n",
       "      <td>Yawning</td>\n",
       "      <td>Condición cuando estan bostezando</td>\n",
       "    </tr>\n",
       "    <tr>\n",
       "      <th>1</th>\n",
       "      <td>1</td>\n",
       "      <td>baseDeDatos/yawning/yawning_night_noglasses1.jpg</td>\n",
       "      <td>night_noglasses</td>\n",
       "      <td>yawning</td>\n",
       "      <td>ERROR</td>\n",
       "      <td>sleepyCombination</td>\n",
       "      <td>Situación cuando estan durmiendo</td>\n",
       "    </tr>\n",
       "    <tr>\n",
       "      <th>2</th>\n",
       "      <td>2</td>\n",
       "      <td>baseDeDatos/yawning/yawning_night_noglasses2.jpg</td>\n",
       "      <td>night_noglasses</td>\n",
       "      <td>yawning</td>\n",
       "      <td>NaN</td>\n",
       "      <td>slowBlinkWithNodding</td>\n",
       "      <td>Parpadeo lento con movimiento de cabeza</td>\n",
       "    </tr>\n",
       "    <tr>\n",
       "      <th>3</th>\n",
       "      <td>3</td>\n",
       "      <td>baseDeDatos/yawning/yawning_night_noglasses3.jpg</td>\n",
       "      <td>night_noglasses</td>\n",
       "      <td>yawning</td>\n",
       "      <td>NaN</td>\n",
       "      <td>nonsleepyCombination</td>\n",
       "      <td>Situación cuando estan despiertos</td>\n",
       "    </tr>\n",
       "    <tr>\n",
       "      <th>4</th>\n",
       "      <td>4</td>\n",
       "      <td>baseDeDatos/yawning/yawning_night_noglasses4.jpg</td>\n",
       "      <td>night_noglasses</td>\n",
       "      <td>yawning</td>\n",
       "      <td>NaN</td>\n",
       "      <td>NaN</td>\n",
       "      <td>NaN</td>\n",
       "    </tr>\n",
       "  </tbody>\n",
       "</table>\n",
       "</div>"
      ],
      "text/plain": [
       "   Unnamed: 0                                     nombreArchivo  \\\n",
       "0           0  baseDeDatos/yawning/yawning_night_noglasses0.jpg   \n",
       "1           1  baseDeDatos/yawning/yawning_night_noglasses1.jpg   \n",
       "2           2  baseDeDatos/yawning/yawning_night_noglasses2.jpg   \n",
       "3           3  baseDeDatos/yawning/yawning_night_noglasses3.jpg   \n",
       "4           4  baseDeDatos/yawning/yawning_night_noglasses4.jpg   \n",
       "\n",
       "         condicion    clase validacion                 Clase  \\\n",
       "0  night_noglasses  yawning      ERROR               Yawning   \n",
       "1  night_noglasses  yawning      ERROR     sleepyCombination   \n",
       "2  night_noglasses  yawning        NaN  slowBlinkWithNodding   \n",
       "3  night_noglasses  yawning        NaN  nonsleepyCombination   \n",
       "4  night_noglasses  yawning        NaN                   NaN   \n",
       "\n",
       "                               Descripcion  \n",
       "0        Condición cuando estan bostezando  \n",
       "1         Situación cuando estan durmiendo  \n",
       "2  Parpadeo lento con movimiento de cabeza  \n",
       "3        Situación cuando estan despiertos  \n",
       "4                                      NaN  "
      ]
     },
     "execution_count": 14,
     "metadata": {},
     "output_type": "execute_result"
    }
   ],
   "source": [
    "datos.head()"
   ]
  },
  {
   "cell_type": "code",
   "execution_count": 19,
   "metadata": {},
   "outputs": [
    {
     "data": {
      "text/plain": [
       "'ERROR'"
      ]
     },
     "execution_count": 19,
     "metadata": {},
     "output_type": "execute_result"
    }
   ],
   "source": []
  },
  {
   "cell_type": "code",
   "execution_count": 15,
   "metadata": {},
   "outputs": [
    {
     "data": {
      "text/plain": [
       "(44903, 7)"
      ]
     },
     "execution_count": 15,
     "metadata": {},
     "output_type": "execute_result"
    }
   ],
   "source": [
    "datos.shape[0]"
   ]
  },
  {
   "cell_type": "code",
   "execution_count": 26,
   "metadata": {},
   "outputs": [],
   "source": [
    "for i in range (datos.shape[0]):\n",
    "    #print (datos['validacion'][i])\n",
    "    if(datos['validacion'][i]==\"ERROR\"):\n",
    "        archivoEliminar=datos['nombreArchivo'][i]\n",
    "        #print()\n",
    "        remove(archivoEliminar)"
   ]
  },
  {
   "cell_type": "code",
   "execution_count": null,
   "metadata": {},
   "outputs": [],
   "source": []
  },
  {
   "cell_type": "code",
   "execution_count": null,
   "metadata": {},
   "outputs": [],
   "source": []
  },
  {
   "cell_type": "code",
   "execution_count": null,
   "metadata": {},
   "outputs": [],
   "source": []
  },
  {
   "cell_type": "code",
   "execution_count": null,
   "metadata": {},
   "outputs": [],
   "source": []
  },
  {
   "cell_type": "code",
   "execution_count": null,
   "metadata": {},
   "outputs": [],
   "source": []
  }
 ],
 "metadata": {
  "kernelspec": {
   "display_name": "Python 3",
   "language": "python",
   "name": "python3"
  },
  "language_info": {
   "codemirror_mode": {
    "name": "ipython",
    "version": 3
   },
   "file_extension": ".py",
   "mimetype": "text/x-python",
   "name": "python",
   "nbconvert_exporter": "python",
   "pygments_lexer": "ipython3",
   "version": "3.7.7"
  }
 },
 "nbformat": 4,
 "nbformat_minor": 4
}
