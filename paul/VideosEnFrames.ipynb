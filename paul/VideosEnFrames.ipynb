{
 "cells": [
  {
   "cell_type": "code",
   "execution_count": 2,
   "metadata": {},
   "outputs": [],
   "source": [
    "#creamos las carpetas principales\n",
    "import os #librería para crear carpetas\n",
    "listaDeCarpetas=[\"015\", \"020\", \"023\", \"024\", \"031\", \"032\", \"033\", \"034\", \"035\",  \"036\"]\n",
    "listaDeClases=[\"night_noglasses\",\"nightglasses\",\"noglasses\",\"sunglasses\",\"glasses\"]\n",
    "for i in listaDeCarpetas:\n",
    "    os.mkdir(i) #creamos la carpeta \n",
    "    for j in listaDeClases:\n",
    "        os.makedirs(i+\"/\"+j) #creamos la carpeta "
   ]
  },
  {
   "cell_type": "code",
   "execution_count": 3,
   "metadata": {},
   "outputs": [],
   "source": [
    "import os #librería para crear carpetas\n",
    "\n",
    "os.mkdir(\"baseDeDatos\") #creamos la carpeta main\n",
    "listaDeClasesPrincipales=[\"nonsleepyCombination\",\"sleepyCombination\",\"slowBlinkWithNodding\",\"yawning\"]\n",
    "#creamos la carpeta para las 4 clases principales:\n",
    "for i in listaDeClasesPrincipales:\n",
    "    os.mkdir(\"baseDeDatos/\"+i) #creamos la carpeta\n"
   ]
  },
  {
   "cell_type": "code",
   "execution_count": 55,
   "metadata": {},
   "outputs": [
    {
     "data": {
      "text/html": [
       "<div>\n",
       "<style scoped>\n",
       "    .dataframe tbody tr th:only-of-type {\n",
       "        vertical-align: middle;\n",
       "    }\n",
       "\n",
       "    .dataframe tbody tr th {\n",
       "        vertical-align: top;\n",
       "    }\n",
       "\n",
       "    .dataframe thead th {\n",
       "        text-align: right;\n",
       "    }\n",
       "</style>\n",
       "<table border=\"1\" class=\"dataframe\">\n",
       "  <thead>\n",
       "    <tr style=\"text-align: right;\">\n",
       "      <th></th>\n",
       "      <th>nombreArchivo</th>\n",
       "      <th>condicion</th>\n",
       "      <th>clase</th>\n",
       "    </tr>\n",
       "  </thead>\n",
       "  <tbody>\n",
       "  </tbody>\n",
       "</table>\n",
       "</div>"
      ],
      "text/plain": [
       "Empty DataFrame\n",
       "Columns: [nombreArchivo, condicion, clase]\n",
       "Index: []"
      ]
     },
     "execution_count": 55,
     "metadata": {},
     "output_type": "execute_result"
    }
   ],
   "source": [
    "import pandas as pd\n",
    "data = pd.DataFrame(columns=('nombreArchivo', 'condicion', 'clase'))\n",
    "data.head()"
   ]
  },
  {
   "cell_type": "code",
   "execution_count": 63,
   "metadata": {},
   "outputs": [],
   "source": [
    "import cv2\n",
    "from os import remove\n",
    "import os #librería para crear carpetas\n",
    "#listaDeCarpetas=[\"015\", \"020\", \"023\"]\n",
    "#listaDeCarpetas=[\"024\",\"031\", \"032\"]\n",
    "#listaDeCarpetas=[\"033\", \"034\", \"036\"]\n",
    "#listaDeCarpetas=[\"035\"]\n",
    "listaDeCarpetas=[\"001\",\"002\",\"005\",\"006\",\"008\",\"009\",\"012\",\"013\",\"015\", \"020\", \"023\",\"024\",\"031\", \"032\",\"033\", \"034\",\"035\",\"036\"]\n",
    "#listaDeCarpetas=[\"015\", \"020\", \"023\",\"024\",\"031\", \"032\",\"033\", \"034\",\"035\",\"036\"]\n",
    "#listaDeCarpetas=[\"015\"]\n",
    "#listaDeClases=[\"night_noglasses\",\"nightglasses\",\"noglasses\",\"sunglasses\",\"glasses\"]\n",
    "listaDeClases=[\"night_noglasses\",\"nightglasses\",\"noglasses\",\"sunglasses\",\"glasses\"]\n",
    "#listaDeVideos=[\"nonsleepyCombination\",\"sleepyCombination\",\"slowBlinkWithNodding\",\"yawning\"]\n",
    "listaDeVideos=[\"nonsleepyCombination\"]\n",
    "cantTotalImagenes= 15000  # 60,000/4 =1500\n",
    "numeroMultiplo=3\n",
    "countImageNombre=0\n",
    "for i in listaDeCarpetas:\n",
    "    numeroVideo=cantTotalImagenes/len(listaDeCarpetas) #833 cantidad por cada persona (015)\n",
    "    #print(\"num video: \",numeroVideo)\n",
    "    for j in listaDeClases:\n",
    "        numeroVideoClases=numeroVideo/len(listaDeClases) # 6 cantidad de cada condicion de persona\n",
    "        #print(\"num numeroVideoClases: \",numeroVideoClases)\n",
    "        for k in listaDeVideos:\n",
    "            vidcap = cv2.VideoCapture(i+\"/\"+j+\"/\"+k+\".avi\")\n",
    "            success,image = vidcap.read()\n",
    "            count = 1\n",
    "            countImage=1\n",
    "            countSegundos=0\n",
    "            try: #se termina de sacar todas las imágenes y seguimos con nuestro recorrido\n",
    "                while success:\n",
    "                    success,image = vidcap.read()\n",
    "                    if(countSegundos %15==0): #por cada 10 fotogramas\n",
    "                        if(numeroVideoClases>0): #6 cantidad por cada persona (015)\n",
    "                            #if(count%numeroMultiplo==0): #si el video es multiplo de 3\n",
    "                            cv2.imwrite(\"baseDeDatos/\"+k+\"/\"+k+\"_\"+j+str(countImageNombre)+\".jpg\",image)\n",
    "                            numeroVideoClases-=1 #restamos a los 6 por cada video\n",
    "                            data.loc[len(data)]=[\"baseDeDatos/\"+k+\"/\"+k+\"_\"+j+str(countImageNombre)+\".jpg\",j,k]\n",
    "                        count += 1 #contador para los multiplos\n",
    "                        countImageNombre+=1 #contador para poner nombre a las imágenes\n",
    "                    countSegundos+=1                     \n",
    "                break\n",
    "            except Exception:\n",
    "                pass\n",
    "            \n",
    "            \n",
    "#            print(\"en la carpeta: \"+i+\" de la clase: \"+j+\" en la condicion: \"+k+\" hay en imagenes: \",countImage)\n",
    "            \n",
    "            \n",
    "            \n",
    "#papers hacen: \n",
    "#rateb jabbara;: 600,000\n",
    "#vijayan: no especifica\n",
    "\n",
    "#60,000 Imágenes en total"
   ]
  },
  {
   "cell_type": "code",
   "execution_count": 64,
   "metadata": {},
   "outputs": [
    {
     "data": {
      "text/plain": [
       "(44903, 3)"
      ]
     },
     "execution_count": 64,
     "metadata": {},
     "output_type": "execute_result"
    }
   ],
   "source": [
    "data.shape"
   ]
  },
  {
   "cell_type": "code",
   "execution_count": 65,
   "metadata": {},
   "outputs": [
    {
     "data": {
      "text/html": [
       "<div>\n",
       "<style scoped>\n",
       "    .dataframe tbody tr th:only-of-type {\n",
       "        vertical-align: middle;\n",
       "    }\n",
       "\n",
       "    .dataframe tbody tr th {\n",
       "        vertical-align: top;\n",
       "    }\n",
       "\n",
       "    .dataframe thead th {\n",
       "        text-align: right;\n",
       "    }\n",
       "</style>\n",
       "<table border=\"1\" class=\"dataframe\">\n",
       "  <thead>\n",
       "    <tr style=\"text-align: right;\">\n",
       "      <th></th>\n",
       "      <th>nombreArchivo</th>\n",
       "      <th>condicion</th>\n",
       "      <th>clase</th>\n",
       "    </tr>\n",
       "  </thead>\n",
       "  <tbody>\n",
       "    <tr>\n",
       "      <th>0</th>\n",
       "      <td>baseDeDatos/yawning/yawning_night_noglasses0.jpg</td>\n",
       "      <td>night_noglasses</td>\n",
       "      <td>yawning</td>\n",
       "    </tr>\n",
       "    <tr>\n",
       "      <th>1</th>\n",
       "      <td>baseDeDatos/yawning/yawning_night_noglasses1.jpg</td>\n",
       "      <td>night_noglasses</td>\n",
       "      <td>yawning</td>\n",
       "    </tr>\n",
       "    <tr>\n",
       "      <th>2</th>\n",
       "      <td>baseDeDatos/yawning/yawning_night_noglasses2.jpg</td>\n",
       "      <td>night_noglasses</td>\n",
       "      <td>yawning</td>\n",
       "    </tr>\n",
       "    <tr>\n",
       "      <th>3</th>\n",
       "      <td>baseDeDatos/yawning/yawning_night_noglasses3.jpg</td>\n",
       "      <td>night_noglasses</td>\n",
       "      <td>yawning</td>\n",
       "    </tr>\n",
       "    <tr>\n",
       "      <th>4</th>\n",
       "      <td>baseDeDatos/yawning/yawning_night_noglasses4.jpg</td>\n",
       "      <td>night_noglasses</td>\n",
       "      <td>yawning</td>\n",
       "    </tr>\n",
       "  </tbody>\n",
       "</table>\n",
       "</div>"
      ],
      "text/plain": [
       "                                      nombreArchivo        condicion    clase\n",
       "0  baseDeDatos/yawning/yawning_night_noglasses0.jpg  night_noglasses  yawning\n",
       "1  baseDeDatos/yawning/yawning_night_noglasses1.jpg  night_noglasses  yawning\n",
       "2  baseDeDatos/yawning/yawning_night_noglasses2.jpg  night_noglasses  yawning\n",
       "3  baseDeDatos/yawning/yawning_night_noglasses3.jpg  night_noglasses  yawning\n",
       "4  baseDeDatos/yawning/yawning_night_noglasses4.jpg  night_noglasses  yawning"
      ]
     },
     "execution_count": 65,
     "metadata": {},
     "output_type": "execute_result"
    }
   ],
   "source": [
    "data.head()"
   ]
  },
  {
   "cell_type": "code",
   "execution_count": 40,
   "metadata": {},
   "outputs": [],
   "source": [
    "#data.rename(columns={'clase': 'condicion', 'condicion': 'clase'}, inplace=True)  #cambiamos el nombre de las columnas"
   ]
  },
  {
   "cell_type": "code",
   "execution_count": 66,
   "metadata": {},
   "outputs": [],
   "source": [
    "data.to_csv(\"BaseDeDatosNTHU.csv\")  "
   ]
  },
  {
   "cell_type": "code",
   "execution_count": null,
   "metadata": {},
   "outputs": [],
   "source": [
    "#BACKUP GENERAR BASE DE DATOS TOTAL\n",
    "import cv2\n",
    "from os import remove\n",
    "import os #librería para crear carpetas\n",
    "listaDeCarpetas=[\"015\", \"020\", \"023\"]\n",
    "#listaDeCarpetas=[\"024\",\"031\", \"032\"]\n",
    "#listaDeCarpetas=[\"033\", \"034\", \"036\"]\n",
    "#listaDeCarpetas=[\"035\"]\n",
    "#listaDeClases=[\"night_noglasses\",\"nightglasses\",\"noglasses\",\"sunglasses\",\"glasses\"]\n",
    "listaDeClases=[\"night_noglasses\",\"nightglasses\",\"noglasses\",\"sunglasses\",\"glasses\"]\n",
    "#listaDeVideos=[\"nonsleepyCombination\",\"sleepyCombination\",\"slowBlinkWithNodding\",\"yawning\"]\n",
    "listaDeVideos=[\"nonsleepyCombination\",\"sleepyCombination\",\"slowBlinkWithNodding\",\"yawning\"]\n",
    "\n",
    "for i in listaDeCarpetas:\n",
    "    for j in listaDeClases:\n",
    "        for k in listaDeVideos:\n",
    "            #print(\"video:\"+i+\"/\"+j+\"/\"+k+\".avi\")\n",
    "            vidcap = cv2.VideoCapture(i+\"/\"+j+\"/\"+k+\".avi\")\n",
    "            success,image = vidcap.read()\n",
    "            count = 0\n",
    "            countImage=1\n",
    "            os.makedirs(i+\"/\"+j+\"/\"+k) #creamos la carpeta\n",
    "            try: #se termina de sacar todas las imágenes y seguimos con nuestro recorrido\n",
    "                while success:\n",
    "                    success,image = vidcap.read()\n",
    "                    count += 1\n",
    "    #               if count%10 == 0 and countImage<=2000:\n",
    "                    #f countImage<=2000:\n",
    "                        #cv2.imwrite(i+\"/\"+j+\"/\"+k+str(countImage)+\".jpg\",image)\n",
    "                    cv2.imwrite(i+\"/\"+j+\"/\"+k+\"/\"+k+str(countImage)+\".jpg\",image)\n",
    "                    countImage+=1\n",
    "                break\n",
    "            except Exception:\n",
    "                pass\n",
    "            print(\"en la carpeta: \"+i+\" de la clase: \"+j+\" en la condicion: \"+k+\" hay en imagenes: \",countImage)\n",
    "            \n",
    "                    #+k+i+\"_\"+str(countImage)\n",
    "        #remove(i+\"/\"+j+\"/\"+k+\".avi\") #eliminamos el video, no se puede eliminar en paralelo\n",
    "        #remove(i+\"/\"+j+\"/\"+i+\"_\"+j+\".zip\") # el archivo rar\n",
    "            \n",
    "            \n",
    "#papers hacen: \n",
    "#rateb jabbara;: 600,000\n",
    "#vijayan: no especifica\n",
    "            "
   ]
  },
  {
   "cell_type": "code",
   "execution_count": 5,
   "metadata": {},
   "outputs": [
    {
     "name": "stdout",
     "output_type": "stream",
     "text": [
      "Collecting opencv-python\n",
      "  Downloading opencv_python-4.2.0.34-cp37-cp37m-win_amd64.whl (33.0 MB)\n",
      "Requirement already satisfied: numpy>=1.14.5 in d:\\anaconda\\lib\\site-packages (from opencv-python) (1.18.1)\n",
      "Installing collected packages: opencv-python\n",
      "Successfully installed opencv-python-4.2.0.34\n",
      "Note: you may need to restart the kernel to use updated packages.\n"
     ]
    }
   ],
   "source": [
    "pip install opencv-python"
   ]
  }
 ],
 "metadata": {
  "kernelspec": {
   "display_name": "Python 3",
   "language": "python",
   "name": "python3"
  },
  "language_info": {
   "codemirror_mode": {
    "name": "ipython",
    "version": 3
   },
   "file_extension": ".py",
   "mimetype": "text/x-python",
   "name": "python",
   "nbconvert_exporter": "python",
   "pygments_lexer": "ipython3",
   "version": "3.7.7"
  }
 },
 "nbformat": 4,
 "nbformat_minor": 4
}
