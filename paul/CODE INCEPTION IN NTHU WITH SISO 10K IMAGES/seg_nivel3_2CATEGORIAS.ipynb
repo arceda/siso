{
 "cells": [
  {
   "cell_type": "code",
   "execution_count": 1,
   "metadata": {},
   "outputs": [],
   "source": [
    "import os #librería para crear carpetas\n",
    "import cv2\n",
    "import pandas as pd\n",
    "from os import listdir\n",
    "os.mkdir(\"Nivel_1\") #creamos la carpeta para las imágenes\n",
    "os.mkdir(\"Nivel_2\") #creamos la carpeta para las imágenes"
   ]
  },
  {
   "cell_type": "code",
   "execution_count": 5,
   "metadata": {},
   "outputs": [
    {
     "data": {
      "text/plain": [
       "10583"
      ]
     },
     "execution_count": 5,
     "metadata": {},
     "output_type": "execute_result"
    }
   ],
   "source": [
    "cantidadN3=len(os.listdir(\"Nivel_3\"))\n",
    "cantidadN3"
   ]
  },
  {
   "cell_type": "code",
   "execution_count": 6,
   "metadata": {},
   "outputs": [
    {
     "data": {
      "text/plain": [
       "5162"
      ]
     },
     "execution_count": 6,
     "metadata": {},
     "output_type": "execute_result"
    }
   ],
   "source": [
    "cantidadN1=len(os.listdir(\"Nivel_1\"))\n",
    "cantidadN1"
   ]
  },
  {
   "cell_type": "code",
   "execution_count": 7,
   "metadata": {},
   "outputs": [
    {
     "data": {
      "text/plain": [
       "5421"
      ]
     },
     "execution_count": 7,
     "metadata": {},
     "output_type": "execute_result"
    }
   ],
   "source": [
    "agregarNivel1=cantidadN3-cantidadN1\n",
    "agregarNivel1"
   ]
  },
  {
   "cell_type": "code",
   "execution_count": 15,
   "metadata": {},
   "outputs": [],
   "source": [
    "#agregamos las imágenes faltantes del nthu\n",
    "import shutil # librería para copiar archivos\n",
    "imagenesNTHU=os.listdir(\"../DB_Segmentada_IMAGENES_NTHU/NONSLEEPY\")\n",
    "for i in range(agregarNivel1):\n",
    "    shutil.copy(\"../DB_Segmentada_IMAGENES_NTHU/NONSLEEPY/\"+imagenesNTHU[i],\"Nivel_1\")"
   ]
  },
  {
   "cell_type": "code",
   "execution_count": null,
   "metadata": {},
   "outputs": [],
   "source": []
  },
  {
   "cell_type": "code",
   "execution_count": null,
   "metadata": {},
   "outputs": [],
   "source": []
  },
  {
   "cell_type": "code",
   "execution_count": null,
   "metadata": {},
   "outputs": [],
   "source": []
  }
 ],
 "metadata": {
  "kernelspec": {
   "display_name": "Python 3",
   "language": "python",
   "name": "python3"
  },
  "language_info": {
   "codemirror_mode": {
    "name": "ipython",
    "version": 3
   },
   "file_extension": ".py",
   "mimetype": "text/x-python",
   "name": "python",
   "nbconvert_exporter": "python",
   "pygments_lexer": "ipython3",
   "version": "3.7.9"
  }
 },
 "nbformat": 4,
 "nbformat_minor": 4
}
